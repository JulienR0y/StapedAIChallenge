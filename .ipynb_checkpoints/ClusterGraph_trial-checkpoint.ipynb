{
 "cells": [
  {
   "cell_type": "code",
   "execution_count": 407,
   "id": "ead31194",
   "metadata": {},
   "outputs": [],
   "source": [
    "import pandas as pd\n",
    "import matplotlib.pyplot as plt\n",
    "import numpy as np\n",
    "import seaborn as sns"
   ]
  },
  {
   "cell_type": "code",
   "execution_count": 293,
   "id": "2a0ba41d",
   "metadata": {},
   "outputs": [],
   "source": [
    "sns.set()"
   ]
  },
  {
   "cell_type": "code",
   "execution_count": 295,
   "id": "415191b9",
   "metadata": {},
   "outputs": [],
   "source": [
    "%matplotlib inline"
   ]
  },
  {
   "cell_type": "code",
   "execution_count": 297,
   "id": "14fffc11",
   "metadata": {},
   "outputs": [],
   "source": [
    "import warnings"
   ]
  },
  {
   "cell_type": "code",
   "execution_count": 298,
   "id": "edc3064d",
   "metadata": {},
   "outputs": [],
   "source": [
    "warnings.filterwarnings('ignore')"
   ]
  },
  {
   "cell_type": "code",
   "execution_count": 398,
   "id": "0d6e3909",
   "metadata": {},
   "outputs": [],
   "source": [
    "plt.rcParams['figure.figsize'] = (12,6)"
   ]
  },
  {
   "cell_type": "code",
   "execution_count": 499,
   "id": "575cd35c",
   "metadata": {},
   "outputs": [],
   "source": [
    "df = pd.read_csv('AIchallenge.csv')"
   ]
  },
  {
   "cell_type": "code",
   "execution_count": 500,
   "id": "6f51e325",
   "metadata": {},
   "outputs": [
    {
     "data": {
      "text/html": [
       "<div>\n",
       "<style scoped>\n",
       "    .dataframe tbody tr th:only-of-type {\n",
       "        vertical-align: middle;\n",
       "    }\n",
       "\n",
       "    .dataframe tbody tr th {\n",
       "        vertical-align: top;\n",
       "    }\n",
       "\n",
       "    .dataframe thead th {\n",
       "        text-align: right;\n",
       "    }\n",
       "</style>\n",
       "<table border=\"1\" class=\"dataframe\">\n",
       "  <thead>\n",
       "    <tr style=\"text-align: right;\">\n",
       "      <th></th>\n",
       "      <th>Unnamed: 0</th>\n",
       "      <th>col_0</th>\n",
       "      <th>col_1</th>\n",
       "      <th>col_2</th>\n",
       "      <th>col_3</th>\n",
       "      <th>col_4</th>\n",
       "      <th>col_5</th>\n",
       "      <th>col_6</th>\n",
       "      <th>col_7</th>\n",
       "      <th>col_8</th>\n",
       "      <th>col_9</th>\n",
       "      <th>col_10</th>\n",
       "      <th>col_11</th>\n",
       "      <th>col_12</th>\n",
       "      <th>col_13</th>\n",
       "    </tr>\n",
       "  </thead>\n",
       "  <tbody>\n",
       "    <tr>\n",
       "      <th>0</th>\n",
       "      <td>0</td>\n",
       "      <td>1</td>\n",
       "      <td>cat_0</td>\n",
       "      <td>0.1189</td>\n",
       "      <td>829.10</td>\n",
       "      <td>11.350407</td>\n",
       "      <td>19.48</td>\n",
       "      <td>737</td>\n",
       "      <td>5639.958333</td>\n",
       "      <td>28854</td>\n",
       "      <td>52.1</td>\n",
       "      <td>0</td>\n",
       "      <td>0</td>\n",
       "      <td>0</td>\n",
       "      <td>0</td>\n",
       "    </tr>\n",
       "    <tr>\n",
       "      <th>1</th>\n",
       "      <td>1</td>\n",
       "      <td>1</td>\n",
       "      <td>cat_2</td>\n",
       "      <td>0.1071</td>\n",
       "      <td>228.22</td>\n",
       "      <td>11.082143</td>\n",
       "      <td>14.29</td>\n",
       "      <td>707</td>\n",
       "      <td>2760.000000</td>\n",
       "      <td>33623</td>\n",
       "      <td>76.7</td>\n",
       "      <td>0</td>\n",
       "      <td>0</td>\n",
       "      <td>0</td>\n",
       "      <td>0</td>\n",
       "    </tr>\n",
       "    <tr>\n",
       "      <th>2</th>\n",
       "      <td>2</td>\n",
       "      <td>1</td>\n",
       "      <td>cat_0</td>\n",
       "      <td>0.1357</td>\n",
       "      <td>366.86</td>\n",
       "      <td>10.373491</td>\n",
       "      <td>11.63</td>\n",
       "      <td>682</td>\n",
       "      <td>4710.000000</td>\n",
       "      <td>3511</td>\n",
       "      <td>25.6</td>\n",
       "      <td>1</td>\n",
       "      <td>0</td>\n",
       "      <td>0</td>\n",
       "      <td>0</td>\n",
       "    </tr>\n",
       "    <tr>\n",
       "      <th>3</th>\n",
       "      <td>3</td>\n",
       "      <td>1</td>\n",
       "      <td>cat_0</td>\n",
       "      <td>0.1008</td>\n",
       "      <td>162.34</td>\n",
       "      <td>11.350407</td>\n",
       "      <td>8.10</td>\n",
       "      <td>712</td>\n",
       "      <td>2699.958333</td>\n",
       "      <td>33667</td>\n",
       "      <td>73.2</td>\n",
       "      <td>1</td>\n",
       "      <td>0</td>\n",
       "      <td>0</td>\n",
       "      <td>0</td>\n",
       "    </tr>\n",
       "    <tr>\n",
       "      <th>4</th>\n",
       "      <td>4</td>\n",
       "      <td>1</td>\n",
       "      <td>cat_2</td>\n",
       "      <td>0.1426</td>\n",
       "      <td>102.92</td>\n",
       "      <td>11.299732</td>\n",
       "      <td>14.97</td>\n",
       "      <td>667</td>\n",
       "      <td>4066.000000</td>\n",
       "      <td>4740</td>\n",
       "      <td>39.5</td>\n",
       "      <td>0</td>\n",
       "      <td>1</td>\n",
       "      <td>0</td>\n",
       "      <td>0</td>\n",
       "    </tr>\n",
       "  </tbody>\n",
       "</table>\n",
       "</div>"
      ],
      "text/plain": [
       "   Unnamed: 0  col_0  col_1   col_2   col_3      col_4  col_5  col_6  \\\n",
       "0           0      1  cat_0  0.1189  829.10  11.350407  19.48    737   \n",
       "1           1      1  cat_2  0.1071  228.22  11.082143  14.29    707   \n",
       "2           2      1  cat_0  0.1357  366.86  10.373491  11.63    682   \n",
       "3           3      1  cat_0  0.1008  162.34  11.350407   8.10    712   \n",
       "4           4      1  cat_2  0.1426  102.92  11.299732  14.97    667   \n",
       "\n",
       "         col_7  col_8  col_9  col_10  col_11  col_12  col_13  \n",
       "0  5639.958333  28854   52.1       0       0       0       0  \n",
       "1  2760.000000  33623   76.7       0       0       0       0  \n",
       "2  4710.000000   3511   25.6       1       0       0       0  \n",
       "3  2699.958333  33667   73.2       1       0       0       0  \n",
       "4  4066.000000   4740   39.5       0       1       0       0  "
      ]
     },
     "execution_count": 500,
     "metadata": {},
     "output_type": "execute_result"
    }
   ],
   "source": [
    "df.head()"
   ]
  },
  {
   "cell_type": "code",
   "execution_count": null,
   "id": "620873d2",
   "metadata": {},
   "outputs": [],
   "source": []
  },
  {
   "cell_type": "code",
   "execution_count": null,
   "id": "5b318300",
   "metadata": {},
   "outputs": [],
   "source": []
  },
  {
   "cell_type": "code",
   "execution_count": 552,
   "id": "61a4c8ea",
   "metadata": {},
   "outputs": [
    {
     "name": "stdout",
     "output_type": "stream",
     "text": [
      "<class 'pandas.core.frame.DataFrame'>\n",
      "RangeIndex: 9578 entries, 0 to 9577\n",
      "Data columns (total 14 columns):\n",
      " #   Column      Non-Null Count  Dtype  \n",
      "---  ------      --------------  -----  \n",
      " 0   Unnamed: 0  9578 non-null   int64  \n",
      " 1   col_0       9578 non-null   int64  \n",
      " 2   col_2       9578 non-null   float64\n",
      " 3   col_3       9578 non-null   float64\n",
      " 4   col_4       9578 non-null   float64\n",
      " 5   col_5       9578 non-null   float64\n",
      " 6   col_6       9578 non-null   int64  \n",
      " 7   col_7       9578 non-null   float64\n",
      " 8   col_8       9578 non-null   int64  \n",
      " 9   col_9       9578 non-null   float64\n",
      " 10  col_10      9578 non-null   int64  \n",
      " 11  col_11      9578 non-null   int64  \n",
      " 12  col_12      9578 non-null   int64  \n",
      " 13  col_13      9578 non-null   int64  \n",
      "dtypes: float64(6), int64(8)\n",
      "memory usage: 1.0 MB\n"
     ]
    }
   ],
   "source": [
    "df.info()"
   ]
  },
  {
   "cell_type": "code",
   "execution_count": null,
   "id": "b00aea30",
   "metadata": {},
   "outputs": [],
   "source": []
  },
  {
   "cell_type": "code",
   "execution_count": 553,
   "id": "84c3d3b1",
   "metadata": {},
   "outputs": [
    {
     "data": {
      "text/html": [
       "<div>\n",
       "<style scoped>\n",
       "    .dataframe tbody tr th:only-of-type {\n",
       "        vertical-align: middle;\n",
       "    }\n",
       "\n",
       "    .dataframe tbody tr th {\n",
       "        vertical-align: top;\n",
       "    }\n",
       "\n",
       "    .dataframe thead th {\n",
       "        text-align: right;\n",
       "    }\n",
       "</style>\n",
       "<table border=\"1\" class=\"dataframe\">\n",
       "  <thead>\n",
       "    <tr style=\"text-align: right;\">\n",
       "      <th></th>\n",
       "      <th>Unnamed: 0</th>\n",
       "      <th>col_0</th>\n",
       "      <th>col_2</th>\n",
       "      <th>col_3</th>\n",
       "      <th>col_4</th>\n",
       "      <th>col_5</th>\n",
       "      <th>col_6</th>\n",
       "      <th>col_7</th>\n",
       "      <th>col_8</th>\n",
       "      <th>col_9</th>\n",
       "      <th>col_10</th>\n",
       "      <th>col_11</th>\n",
       "      <th>col_12</th>\n",
       "      <th>col_13</th>\n",
       "    </tr>\n",
       "  </thead>\n",
       "  <tbody>\n",
       "    <tr>\n",
       "      <th>count</th>\n",
       "      <td>9578.000000</td>\n",
       "      <td>9578.000000</td>\n",
       "      <td>9578.000000</td>\n",
       "      <td>9578.000000</td>\n",
       "      <td>9578.000000</td>\n",
       "      <td>9578.000000</td>\n",
       "      <td>9578.000000</td>\n",
       "      <td>9578.000000</td>\n",
       "      <td>9.578000e+03</td>\n",
       "      <td>9578.000000</td>\n",
       "      <td>9578.000000</td>\n",
       "      <td>9578.000000</td>\n",
       "      <td>9578.000000</td>\n",
       "      <td>9578.000000</td>\n",
       "    </tr>\n",
       "    <tr>\n",
       "      <th>mean</th>\n",
       "      <td>4788.500000</td>\n",
       "      <td>0.804970</td>\n",
       "      <td>0.122640</td>\n",
       "      <td>319.089413</td>\n",
       "      <td>10.932117</td>\n",
       "      <td>12.606679</td>\n",
       "      <td>710.846314</td>\n",
       "      <td>4560.767197</td>\n",
       "      <td>1.691396e+04</td>\n",
       "      <td>46.799236</td>\n",
       "      <td>1.577469</td>\n",
       "      <td>0.163708</td>\n",
       "      <td>0.062122</td>\n",
       "      <td>0.160054</td>\n",
       "    </tr>\n",
       "    <tr>\n",
       "      <th>std</th>\n",
       "      <td>2765.074773</td>\n",
       "      <td>0.396245</td>\n",
       "      <td>0.026847</td>\n",
       "      <td>207.071301</td>\n",
       "      <td>0.614813</td>\n",
       "      <td>6.883970</td>\n",
       "      <td>37.970537</td>\n",
       "      <td>2496.930377</td>\n",
       "      <td>3.375619e+04</td>\n",
       "      <td>29.014417</td>\n",
       "      <td>2.200245</td>\n",
       "      <td>0.546215</td>\n",
       "      <td>0.262126</td>\n",
       "      <td>0.366676</td>\n",
       "    </tr>\n",
       "    <tr>\n",
       "      <th>min</th>\n",
       "      <td>0.000000</td>\n",
       "      <td>0.000000</td>\n",
       "      <td>0.060000</td>\n",
       "      <td>15.670000</td>\n",
       "      <td>7.547502</td>\n",
       "      <td>0.000000</td>\n",
       "      <td>612.000000</td>\n",
       "      <td>178.958333</td>\n",
       "      <td>0.000000e+00</td>\n",
       "      <td>0.000000</td>\n",
       "      <td>0.000000</td>\n",
       "      <td>0.000000</td>\n",
       "      <td>0.000000</td>\n",
       "      <td>0.000000</td>\n",
       "    </tr>\n",
       "    <tr>\n",
       "      <th>25%</th>\n",
       "      <td>2394.250000</td>\n",
       "      <td>1.000000</td>\n",
       "      <td>0.103900</td>\n",
       "      <td>163.770000</td>\n",
       "      <td>10.558414</td>\n",
       "      <td>7.212500</td>\n",
       "      <td>682.000000</td>\n",
       "      <td>2820.000000</td>\n",
       "      <td>3.187000e+03</td>\n",
       "      <td>22.600000</td>\n",
       "      <td>0.000000</td>\n",
       "      <td>0.000000</td>\n",
       "      <td>0.000000</td>\n",
       "      <td>0.000000</td>\n",
       "    </tr>\n",
       "    <tr>\n",
       "      <th>50%</th>\n",
       "      <td>4788.500000</td>\n",
       "      <td>1.000000</td>\n",
       "      <td>0.122100</td>\n",
       "      <td>268.950000</td>\n",
       "      <td>10.928884</td>\n",
       "      <td>12.665000</td>\n",
       "      <td>707.000000</td>\n",
       "      <td>4139.958333</td>\n",
       "      <td>8.596000e+03</td>\n",
       "      <td>46.300000</td>\n",
       "      <td>1.000000</td>\n",
       "      <td>0.000000</td>\n",
       "      <td>0.000000</td>\n",
       "      <td>0.000000</td>\n",
       "    </tr>\n",
       "    <tr>\n",
       "      <th>75%</th>\n",
       "      <td>7182.750000</td>\n",
       "      <td>1.000000</td>\n",
       "      <td>0.140700</td>\n",
       "      <td>432.762500</td>\n",
       "      <td>11.291293</td>\n",
       "      <td>17.950000</td>\n",
       "      <td>737.000000</td>\n",
       "      <td>5730.000000</td>\n",
       "      <td>1.824950e+04</td>\n",
       "      <td>70.900000</td>\n",
       "      <td>2.000000</td>\n",
       "      <td>0.000000</td>\n",
       "      <td>0.000000</td>\n",
       "      <td>0.000000</td>\n",
       "    </tr>\n",
       "    <tr>\n",
       "      <th>max</th>\n",
       "      <td>9577.000000</td>\n",
       "      <td>1.000000</td>\n",
       "      <td>0.216400</td>\n",
       "      <td>940.140000</td>\n",
       "      <td>14.528354</td>\n",
       "      <td>29.960000</td>\n",
       "      <td>827.000000</td>\n",
       "      <td>17639.958330</td>\n",
       "      <td>1.207359e+06</td>\n",
       "      <td>119.000000</td>\n",
       "      <td>33.000000</td>\n",
       "      <td>13.000000</td>\n",
       "      <td>5.000000</td>\n",
       "      <td>1.000000</td>\n",
       "    </tr>\n",
       "  </tbody>\n",
       "</table>\n",
       "</div>"
      ],
      "text/plain": [
       "        Unnamed: 0        col_0        col_2        col_3        col_4  \\\n",
       "count  9578.000000  9578.000000  9578.000000  9578.000000  9578.000000   \n",
       "mean   4788.500000     0.804970     0.122640   319.089413    10.932117   \n",
       "std    2765.074773     0.396245     0.026847   207.071301     0.614813   \n",
       "min       0.000000     0.000000     0.060000    15.670000     7.547502   \n",
       "25%    2394.250000     1.000000     0.103900   163.770000    10.558414   \n",
       "50%    4788.500000     1.000000     0.122100   268.950000    10.928884   \n",
       "75%    7182.750000     1.000000     0.140700   432.762500    11.291293   \n",
       "max    9577.000000     1.000000     0.216400   940.140000    14.528354   \n",
       "\n",
       "             col_5        col_6         col_7         col_8        col_9  \\\n",
       "count  9578.000000  9578.000000   9578.000000  9.578000e+03  9578.000000   \n",
       "mean     12.606679   710.846314   4560.767197  1.691396e+04    46.799236   \n",
       "std       6.883970    37.970537   2496.930377  3.375619e+04    29.014417   \n",
       "min       0.000000   612.000000    178.958333  0.000000e+00     0.000000   \n",
       "25%       7.212500   682.000000   2820.000000  3.187000e+03    22.600000   \n",
       "50%      12.665000   707.000000   4139.958333  8.596000e+03    46.300000   \n",
       "75%      17.950000   737.000000   5730.000000  1.824950e+04    70.900000   \n",
       "max      29.960000   827.000000  17639.958330  1.207359e+06   119.000000   \n",
       "\n",
       "            col_10       col_11       col_12       col_13  \n",
       "count  9578.000000  9578.000000  9578.000000  9578.000000  \n",
       "mean      1.577469     0.163708     0.062122     0.160054  \n",
       "std       2.200245     0.546215     0.262126     0.366676  \n",
       "min       0.000000     0.000000     0.000000     0.000000  \n",
       "25%       0.000000     0.000000     0.000000     0.000000  \n",
       "50%       1.000000     0.000000     0.000000     0.000000  \n",
       "75%       2.000000     0.000000     0.000000     0.000000  \n",
       "max      33.000000    13.000000     5.000000     1.000000  "
      ]
     },
     "execution_count": 553,
     "metadata": {},
     "output_type": "execute_result"
    }
   ],
   "source": [
    "df.describe()"
   ]
  },
  {
   "cell_type": "code",
   "execution_count": 554,
   "id": "21df8ed9",
   "metadata": {},
   "outputs": [],
   "source": [
    "from sklearn.cluster import KMeans"
   ]
  },
  {
   "cell_type": "code",
   "execution_count": 555,
   "id": "e65e845b",
   "metadata": {},
   "outputs": [],
   "source": [
    "kmeans = KMeans(n_clusters=2)\n",
    "df_analyze = df.drop('Unnamed: 0',axis=1)"
   ]
  },
  {
   "cell_type": "code",
   "execution_count": 556,
   "id": "8af01567",
   "metadata": {},
   "outputs": [
    {
     "data": {
      "text/plain": [
       "KMeans(n_clusters=2)"
      ]
     },
     "execution_count": 556,
     "metadata": {},
     "output_type": "execute_result"
    }
   ],
   "source": [
    "kmeans.fit(df_analyze)"
   ]
  },
  {
   "cell_type": "code",
   "execution_count": 557,
   "id": "e8173ebc",
   "metadata": {},
   "outputs": [
    {
     "data": {
      "text/plain": [
       "array([[8.17881148e-01, 1.22498229e-01, 3.15318580e+02, 1.09099762e+01,\n",
       "        1.25212163e+01, 7.10726128e+02, 4.50928022e+03, 1.32541259e+04,\n",
       "        4.65790078e+01, 1.56929478e+00, 1.64515097e-01, 6.29467620e-02,\n",
       "        1.57473594e-01],\n",
       "       [2.14634146e-01, 1.29124878e-01, 4.91499268e+02, 1.19444450e+01,\n",
       "        1.65141951e+01, 7.16341463e+02, 6.91485203e+03, 1.84248898e+05,\n",
       "        5.68684878e+01, 1.95121951e+00, 1.26829268e-01, 2.43902439e-02,\n",
       "        2.78048780e-01]])"
      ]
     },
     "execution_count": 557,
     "metadata": {},
     "output_type": "execute_result"
    }
   ],
   "source": [
    "kmeans.cluster_centers_"
   ]
  },
  {
   "cell_type": "code",
   "execution_count": 558,
   "id": "3079dccc",
   "metadata": {},
   "outputs": [
    {
     "name": "stdout",
     "output_type": "stream",
     "text": [
      "[0 0 0 ... 0 0 0]\n",
      "9578\n"
     ]
    }
   ],
   "source": [
    "print(kmeans.labels_)\n",
    "print(len(kmeans.labels_))"
   ]
  },
  {
   "cell_type": "code",
   "execution_count": 559,
   "id": "fcd3111a",
   "metadata": {},
   "outputs": [
    {
     "name": "stdout",
     "output_type": "stream",
     "text": [
      "<class 'numpy.ndarray'>\n",
      "{0: 9373, 1: 205}\n"
     ]
    }
   ],
   "source": [
    "print(type(kmeans.labels_))\n",
    "unique,counts = np.unique(kmeans.labels_,return_counts=True)\n",
    "print(dict(zip(unique,counts)))"
   ]
  },
  {
   "cell_type": "code",
   "execution_count": 573,
   "id": "7f039526",
   "metadata": {},
   "outputs": [
    {
     "data": {
      "text/plain": [
       "<seaborn.axisgrid.FacetGrid at 0x15547a90190>"
      ]
     },
     "execution_count": 573,
     "metadata": {},
     "output_type": "execute_result"
    },
    {
     "data": {
      "image/png": "[encoded data removed]",
      "text/plain": [
       "<Figure size 477.725x432 with 1 Axes>"
      ]
     },
     "metadata": {},
     "output_type": "display_data"
    }
   ],
   "source": [
    "df_analyze['cluster'] = kmeans.labels_\n",
    "sns.set_style('whitegrid')\n",
    "sns.lmplot('col_13', 'col_6', data=df_analyze, hue='cluster', palette='coolwarm', size=6, aspect=1, fit_reg=False)"
   ]
  },
  {
   "cell_type": "code",
   "execution_count": 576,
   "id": "94838852",
   "metadata": {},
   "outputs": [
    {
     "name": "stdout",
     "output_type": "stream",
     "text": [
      "[[8.52908485e-01 1.24207484e-01 3.35627255e+02 1.09128935e+01\n",
      "  1.36572212e+01 7.05868099e+02 4.61341120e+03 1.17149678e+04\n",
      "  5.45275287e+01 1.45313079e+00 1.58947758e-01 7.26194887e-02\n",
      "  1.43386439e-01]\n",
      " [2.18181818e-01 1.24870909e-01 4.29534727e+02 1.19858867e+01\n",
      "  1.56423636e+01 7.19000000e+02 7.13089091e+03 1.49911618e+05\n",
      "  5.69007273e+01 1.76363636e+00 1.45454545e-01 1.81818182e-02\n",
      "  2.72727273e-01]\n",
      " [7.26708075e-01 1.28256211e-01 4.21341429e+02 1.15648410e+01\n",
      "  1.63800932e+01 7.10757764e+02 6.34444190e+03 6.59268944e+04\n",
      "  6.31652174e+01 1.54347826e+00 9.31677019e-02 3.72670807e-02\n",
      "  1.73913043e-01]\n",
      " [0.00000000e+00 1.75350000e-01 7.83290000e+02 1.30351867e+01\n",
      "  1.28850000e+01 6.94500000e+02 8.07002083e+03 1.07968600e+06\n",
      "  7.75000000e+01 6.50000000e+00 0.00000000e+00 0.00000000e+00\n",
      "  5.00000000e-01]\n",
      " [8.01358234e-01 1.28453650e-01 4.30804312e+02 1.13840569e+01\n",
      "  1.60707301e+01 7.08477080e+02 5.85765641e+03 3.93501817e+04\n",
      "  6.55903226e+01 1.67232598e+00 1.01867572e-01 2.88624788e-02\n",
      "  1.88455008e-01]\n",
      " [0.00000000e+00 1.34900000e-01 3.40805000e+02 1.24145787e+01\n",
      "  1.63650000e+01 6.94500000e+02 1.01250000e+04 5.55740000e+05\n",
      "  8.00500000e+01 2.00000000e+00 0.00000000e+00 5.00000000e-01\n",
      "  5.00000000e-01]\n",
      " [5.28301887e-01 1.29739623e-01 4.61065849e+02 1.17224178e+01\n",
      "  1.65256604e+01 7.10349057e+02 6.08070165e+03 1.06998783e+05\n",
      "  6.10349057e+01 1.72641509e+00 9.43396226e-02 9.43396226e-03\n",
      "  2.07547170e-01]\n",
      " [7.93968692e-01 1.18626174e-01 2.50890573e+02 1.07136022e+01\n",
      "  1.01201427e+01 7.15700506e+02 3.89887197e+03 2.99512776e+03\n",
      "  3.28485820e+01 1.66344383e+00 1.89456722e-01 6.86003683e-02\n",
      "  1.59760589e-01]\n",
      " [0.00000000e+00 1.38537500e-01 6.33512500e+02 1.24836623e+01\n",
      "  1.48987500e+01 7.10125000e+02 7.58739063e+03 3.80387250e+05\n",
      "  5.49250000e+01 1.50000000e+00 1.25000000e-01 6.93889390e-18\n",
      "  5.00000000e-01]\n",
      " [8.56213873e-01 1.27165318e-01 3.99781640e+02 1.11475194e+01\n",
      "  1.53474494e+01 7.05598266e+02 5.18178456e+03 2.31095961e+04\n",
      "  6.17849711e+01 1.46531792e+00 1.43063584e-01 4.84104046e-02\n",
      "  1.59682081e-01]\n",
      " [1.11022302e-16 1.34418750e-01 5.42513542e+02 1.19463461e+01\n",
      "  1.73312500e+01 7.17625000e+02 7.61683854e+03 2.08749438e+05\n",
      "  5.06020833e+01 2.06250000e+00 1.45833333e-01 4.16666667e-02\n",
      "  3.75000000e-01]\n",
      " [2.22044605e-16 1.23300000e-01 6.28631053e+02 1.21463965e+01\n",
      "  1.69194737e+01 7.31210526e+02 6.87478947e+03 2.66425368e+05\n",
      "  5.86368421e+01 2.26315789e+00 1.05263158e-01 2.08166817e-17\n",
      "  1.57894737e-01]]\n",
      "{0: 2698, 1: 55, 2: 322, 3: 2, 4: 590, 5: 2, 6: 106, 7: 4343, 8: 8, 9: 1385, 10: 48, 11: 19}\n"
     ]
    }
   ],
   "source": [
    "kmeans_12 = KMeans(n_clusters=12)\n",
    "kmeans_12.fit(df.drop('Unnamed: 0',axis=1))\n",
    "kmeans_12.fit(df.drop('Unnamed: 0',axis=1))\n",
    "print(kmeans_12.cluster_centers_)\n",
    "unique,counts = np.unique(kmeans_12.labels_, return_counts=True)\n",
    "\n",
    "kmeans_12.cluster_centers_\n",
    "print(dict(zip(unique,counts)))"
   ]
  },
  {
   "cell_type": "code",
   "execution_count": 583,
   "id": "19c1d8ed",
   "metadata": {},
   "outputs": [
    {
     "data": {
      "text/plain": [
       "<seaborn.axisgrid.FacetGrid at 0x155480e7d30>"
      ]
     },
     "execution_count": 583,
     "metadata": {},
     "output_type": "execute_result"
    },
    {
     "data": {
      "image/png": "[encoded data removed]",
      "text/plain": [
       "<Figure size 411.85x360 with 1 Axes>"
      ]
     },
     "metadata": {},
     "output_type": "display_data"
    }
   ],
   "source": [
    "df_analyze['cluster'] = kmeans_12.labels_\n",
    "sns.set_style('whitegrid')\n",
    "sns.lmplot('col_13', 'col_2', data=df_analyze, hue='cluster', palette='coolwarm', size=5, aspect=1, fit_reg=False)"
   ]
  }
 ],
 "metadata": {
  "kernelspec": {
   "display_name": "Python 3",
   "language": "python",
   "name": "python3"
  },
  "language_info": {
   "codemirror_mode": {
    "name": "ipython",
    "version": 3
   },
   "file_extension": ".py",
   "mimetype": "text/x-python",
   "name": "python",
   "nbconvert_exporter": "python",
   "pygments_lexer": "ipython3",
   "version": "3.8.8"
  }
 },
 "nbformat": 4,
 "nbformat_minor": 5
}
