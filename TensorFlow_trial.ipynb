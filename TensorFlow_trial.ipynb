{
 "cells": [
  {
   "cell_type": "code",
   "execution_count": 1,
   "id": "294eb24f",
   "metadata": {},
   "outputs": [],
   "source": [
    "import pandas as pd"
   ]
  },
  {
   "cell_type": "code",
   "execution_count": 2,
   "id": "e760e98d",
   "metadata": {},
   "outputs": [],
   "source": [
    "df = pd.read_csv('AIchallenge.csv')"
   ]
  },
  {
   "cell_type": "code",
   "execution_count": 3,
   "id": "d7e169e7",
   "metadata": {},
   "outputs": [
    {
     "name": "stdout",
     "output_type": "stream",
     "text": [
      "   Unnamed: 0  col_0  col_1   col_2   col_3      col_4  col_5  col_6  \\\n",
      "0           0      1  cat_0  0.1189  829.10  11.350407  19.48    737   \n",
      "1           1      1  cat_2  0.1071  228.22  11.082143  14.29    707   \n",
      "2           2      1  cat_0  0.1357  366.86  10.373491  11.63    682   \n",
      "3           3      1  cat_0  0.1008  162.34  11.350407   8.10    712   \n",
      "4           4      1  cat_2  0.1426  102.92  11.299732  14.97    667   \n",
      "\n",
      "         col_7  col_8  col_9  col_10  col_11  col_12  col_13  \n",
      "0  5639.958333  28854   52.1       0       0       0       0  \n",
      "1  2760.000000  33623   76.7       0       0       0       0  \n",
      "2  4710.000000   3511   25.6       1       0       0       0  \n",
      "3  2699.958333  33667   73.2       1       0       0       0  \n",
      "4  4066.000000   4740   39.5       0       1       0       0  \n",
      "        Unnamed: 0        col_0        col_2        col_3        col_4  \\\n",
      "count  9578.000000  9578.000000  9578.000000  9578.000000  9578.000000   \n",
      "mean   4788.500000     0.804970     0.122640   319.089413    10.932117   \n",
      "std    2765.074773     0.396245     0.026847   207.071301     0.614813   \n",
      "min       0.000000     0.000000     0.060000    15.670000     7.547502   \n",
      "25%    2394.250000     1.000000     0.103900   163.770000    10.558414   \n",
      "50%    4788.500000     1.000000     0.122100   268.950000    10.928884   \n",
      "75%    7182.750000     1.000000     0.140700   432.762500    11.291293   \n",
      "max    9577.000000     1.000000     0.216400   940.140000    14.528354   \n",
      "\n",
      "             col_5        col_6         col_7         col_8        col_9  \\\n",
      "count  9578.000000  9578.000000   9578.000000  9.578000e+03  9578.000000   \n",
      "mean     12.606679   710.846314   4560.767197  1.691396e+04    46.799236   \n",
      "std       6.883970    37.970537   2496.930377  3.375619e+04    29.014417   \n",
      "min       0.000000   612.000000    178.958333  0.000000e+00     0.000000   \n",
      "25%       7.212500   682.000000   2820.000000  3.187000e+03    22.600000   \n",
      "50%      12.665000   707.000000   4139.958333  8.596000e+03    46.300000   \n",
      "75%      17.950000   737.000000   5730.000000  1.824950e+04    70.900000   \n",
      "max      29.960000   827.000000  17639.958330  1.207359e+06   119.000000   \n",
      "\n",
      "            col_10       col_11       col_12       col_13  \n",
      "count  9578.000000  9578.000000  9578.000000  9578.000000  \n",
      "mean      1.577469     0.163708     0.062122     0.160054  \n",
      "std       2.200245     0.546215     0.262126     0.366676  \n",
      "min       0.000000     0.000000     0.000000     0.000000  \n",
      "25%       0.000000     0.000000     0.000000     0.000000  \n",
      "50%       1.000000     0.000000     0.000000     0.000000  \n",
      "75%       2.000000     0.000000     0.000000     0.000000  \n",
      "max      33.000000    13.000000     5.000000     1.000000  \n"
     ]
    }
   ],
   "source": [
    "print(df.head())\n",
    "print(df.describe())"
   ]
  },
  {
   "cell_type": "code",
   "execution_count": 4,
   "id": "dd99bd77",
   "metadata": {},
   "outputs": [],
   "source": [
    "df = df.drop(['col_1'], axis=1)"
   ]
  },
  {
   "cell_type": "code",
   "execution_count": 5,
   "id": "89f16368",
   "metadata": {},
   "outputs": [],
   "source": [
    "labels = df.iloc[:,-1]"
   ]
  },
  {
   "cell_type": "code",
   "execution_count": 6,
   "id": "e20fff5e",
   "metadata": {},
   "outputs": [],
   "source": [
    "features = df.iloc[:, 0:-1]"
   ]
  },
  {
   "cell_type": "code",
   "execution_count": 7,
   "id": "fe8e0f4d",
   "metadata": {},
   "outputs": [],
   "source": [
    "features = pd.get_dummies(df)"
   ]
  },
  {
   "cell_type": "code",
   "execution_count": 8,
   "id": "88727bdb",
   "metadata": {},
   "outputs": [],
   "source": [
    "from sklearn.model_selection import train_test_split\n",
    "features_train, features_test, labels_train, labels_test = train_test_split(features, labels, test_size = 0.20, random_state=23)"
   ]
  },
  {
   "cell_type": "code",
   "execution_count": 9,
   "id": "7c144a69",
   "metadata": {},
   "outputs": [],
   "source": [
    "from sklearn.preprocessing import StandardScaler\n",
    "from sklearn.preprocessing import Normalizer\n",
    "from sklearn.compose import ColumnTransformer\n",
    " \n",
    "numerical_features = features.select_dtypes(include=['float64', 'int64'])\n",
    "numerical_columns = numerical_features.columns\n",
    " \n",
    "ct = ColumnTransformer([(\"only numeric\", StandardScaler(), numerical_columns)], remainder='passthrough')"
   ]
  },
  {
   "cell_type": "code",
   "execution_count": 10,
   "id": "d1780f79",
   "metadata": {},
   "outputs": [],
   "source": [
    "features_train_scaled  = ct.fit_transform(features_train)"
   ]
  },
  {
   "cell_type": "code",
   "execution_count": 11,
   "id": "3103f7ca",
   "metadata": {},
   "outputs": [],
   "source": [
    "features_test_scaled  = ct.transform(features_test)"
   ]
  },
  {
   "cell_type": "code",
   "execution_count": 12,
   "id": "cf8a79e7",
   "metadata": {},
   "outputs": [
    {
     "ename": "ModuleNotFoundError",
     "evalue": "No module named 'tensorflow'",
     "output_type": "error",
     "traceback": [
      "\u001b[1;31m---------------------------------------------------------------------------\u001b[0m",
      "\u001b[1;31mModuleNotFoundError\u001b[0m                       Traceback (most recent call last)",
      "\u001b[1;32m<ipython-input-12-02b3aece1432>\u001b[0m in \u001b[0;36m<module>\u001b[1;34m\u001b[0m\n\u001b[1;32m----> 1\u001b[1;33m \u001b[1;32mfrom\u001b[0m \u001b[0mtensorflow\u001b[0m\u001b[1;33m.\u001b[0m\u001b[0mkeras\u001b[0m\u001b[1;33m.\u001b[0m\u001b[0mmodels\u001b[0m \u001b[1;32mimport\u001b[0m \u001b[0mSequential\u001b[0m\u001b[1;33m\u001b[0m\u001b[1;33m\u001b[0m\u001b[0m\n\u001b[0m\u001b[0;32m      2\u001b[0m \u001b[1;33m\u001b[0m\u001b[0m\n\u001b[0;32m      3\u001b[0m \u001b[0mmy_model\u001b[0m \u001b[1;33m=\u001b[0m \u001b[0mSequential\u001b[0m\u001b[1;33m(\u001b[0m\u001b[1;33m)\u001b[0m\u001b[1;33m\u001b[0m\u001b[1;33m\u001b[0m\u001b[0m\n",
      "\u001b[1;31mModuleNotFoundError\u001b[0m: No module named 'tensorflow'"
     ]
    }
   ],
   "source": [
    "from tensorflow.keras.models import Sequential\n",
    "\n",
    "my_model = Sequential()"
   ]
  },
  {
   "cell_type": "code",
   "execution_count": 13,
   "id": "1f9b8b20",
   "metadata": {},
   "outputs": [
    {
     "ename": "ModuleNotFoundError",
     "evalue": "No module named 'tensorflow'",
     "output_type": "error",
     "traceback": [
      "\u001b[1;31m---------------------------------------------------------------------------\u001b[0m",
      "\u001b[1;31mModuleNotFoundError\u001b[0m                       Traceback (most recent call last)",
      "\u001b[1;32m<ipython-input-13-86e11046b666>\u001b[0m in \u001b[0;36m<module>\u001b[1;34m\u001b[0m\n\u001b[1;32m----> 1\u001b[1;33m \u001b[1;32mfrom\u001b[0m \u001b[0mtensorflow\u001b[0m\u001b[1;33m.\u001b[0m\u001b[0mkeras\u001b[0m\u001b[1;33m.\u001b[0m\u001b[0mlayers\u001b[0m \u001b[1;32mimport\u001b[0m \u001b[0mInputLayer\u001b[0m\u001b[1;33m\u001b[0m\u001b[1;33m\u001b[0m\u001b[0m\n\u001b[0m\u001b[0;32m      2\u001b[0m \u001b[0minput\u001b[0m \u001b[1;33m=\u001b[0m \u001b[0mInputLayer\u001b[0m\u001b[1;33m(\u001b[0m\u001b[0minput_shape\u001b[0m \u001b[1;33m=\u001b[0m \u001b[1;33m(\u001b[0m\u001b[0mfeatures\u001b[0m\u001b[1;33m.\u001b[0m\u001b[0mshape\u001b[0m\u001b[1;33m[\u001b[0m\u001b[1;36m1\u001b[0m\u001b[1;33m]\u001b[0m\u001b[1;33m,\u001b[0m \u001b[1;33m)\u001b[0m\u001b[1;33m)\u001b[0m\u001b[1;33m\u001b[0m\u001b[1;33m\u001b[0m\u001b[0m\n\u001b[0;32m      3\u001b[0m \u001b[1;33m\u001b[0m\u001b[0m\n\u001b[0;32m      4\u001b[0m \u001b[0mmodel\u001b[0m\u001b[1;33m.\u001b[0m\u001b[0madd\u001b[0m\u001b[1;33m(\u001b[0m\u001b[0mlayer\u001b[0m\u001b[1;33m)\u001b[0m\u001b[1;33m\u001b[0m\u001b[1;33m\u001b[0m\u001b[0m\n\u001b[0;32m      5\u001b[0m \u001b[1;33m\u001b[0m\u001b[0m\n",
      "\u001b[1;31mModuleNotFoundError\u001b[0m: No module named 'tensorflow'"
     ]
    }
   ],
   "source": [
    "from tensorflow.keras.layers import InputLayer\n",
    "input = InputLayer(input_shape = (features.shape[1], ))\n",
    "\n",
    "model.add(layer)\n",
    "\n",
    "from tensorflow.keras.layers import Dense\n",
    "my_model.add(Dense(64, activation = \"relu\"))"
   ]
  },
  {
   "cell_type": "code",
   "execution_count": 14,
   "id": "be5e6615",
   "metadata": {},
   "outputs": [
    {
     "ename": "ModuleNotFoundError",
     "evalue": "No module named 'tensorflow'",
     "output_type": "error",
     "traceback": [
      "\u001b[1;31m---------------------------------------------------------------------------\u001b[0m",
      "\u001b[1;31mModuleNotFoundError\u001b[0m                       Traceback (most recent call last)",
      "\u001b[1;32m<ipython-input-14-79262ede8c8a>\u001b[0m in \u001b[0;36m<module>\u001b[1;34m\u001b[0m\n\u001b[1;32m----> 1\u001b[1;33m \u001b[1;32mfrom\u001b[0m \u001b[0mtensorflow\u001b[0m\u001b[1;33m.\u001b[0m\u001b[0mkeras\u001b[0m\u001b[1;33m.\u001b[0m\u001b[0mlayers\u001b[0m \u001b[1;32mimport\u001b[0m \u001b[0mDense\u001b[0m\u001b[1;33m\u001b[0m\u001b[1;33m\u001b[0m\u001b[0m\n\u001b[0m\u001b[0;32m      2\u001b[0m \u001b[0mmy_model\u001b[0m\u001b[1;33m.\u001b[0m\u001b[0madd\u001b[0m\u001b[1;33m(\u001b[0m\u001b[0mDense\u001b[0m\u001b[1;33m(\u001b[0m\u001b[1;36m64\u001b[0m\u001b[1;33m,\u001b[0m \u001b[0mactivation\u001b[0m \u001b[1;33m=\u001b[0m \u001b[1;34m\"relu\"\u001b[0m\u001b[1;33m)\u001b[0m\u001b[1;33m)\u001b[0m\u001b[1;33m\u001b[0m\u001b[1;33m\u001b[0m\u001b[0m\n\u001b[0;32m      3\u001b[0m \u001b[1;33m\u001b[0m\u001b[0m\n\u001b[0;32m      4\u001b[0m \u001b[1;32mfrom\u001b[0m \u001b[0mtensorflow\u001b[0m\u001b[1;33m.\u001b[0m\u001b[0mkeras\u001b[0m\u001b[1;33m.\u001b[0m\u001b[0mlayers\u001b[0m \u001b[1;32mimport\u001b[0m \u001b[0mDense\u001b[0m\u001b[1;33m\u001b[0m\u001b[1;33m\u001b[0m\u001b[0m\n\u001b[0;32m      5\u001b[0m \u001b[0mmy_model\u001b[0m\u001b[1;33m.\u001b[0m\u001b[0madd\u001b[0m\u001b[1;33m(\u001b[0m\u001b[0mDense\u001b[0m\u001b[1;33m(\u001b[0m\u001b[1;36m1\u001b[0m\u001b[1;33m)\u001b[0m\u001b[1;33m)\u001b[0m\u001b[1;33m\u001b[0m\u001b[1;33m\u001b[0m\u001b[0m\n",
      "\u001b[1;31mModuleNotFoundError\u001b[0m: No module named 'tensorflow'"
     ]
    }
   ],
   "source": [
    "from tensorflow.keras.layers import Dense\n",
    "my_model.add(Dense(64, activation = \"relu\"))\n",
    "\n",
    "from tensorflow.keras.layers import Dense\n",
    "my_model.add(Dense(1))\n",
    "\n",
    "print(my_model.summary())\n",
    "\n",
    "from tensorflow.keras.optimizers import Adam\n",
    "opt = Adam(learning_rate = 0.01)\n",
    "my_model.compile(loss = 'mse', metrics = ['mae'], optimizer = opt)\n",
    "\n",
    "model.fit(features_train_scaled, labels_train, epochs = 50, batch_size = 1, verbose = 1)\n",
    "\n",
    "res_mse, res_mae = my_model.evaluate(features_test_scaled, labels_test, verbose = 0)\n",
    "\n",
    "print(res_mse, res_mae)"
   ]
  },
  {
   "cell_type": "code",
   "execution_count": null,
   "id": "51aba1a9",
   "metadata": {},
   "outputs": [],
   "source": []
  }
 ],
 "metadata": {
  "kernelspec": {
   "display_name": "Python 3",
   "language": "python",
   "name": "python3"
  },
  "language_info": {
   "codemirror_mode": {
    "name": "ipython",
    "version": 3
   },
   "file_extension": ".py",
   "mimetype": "text/x-python",
   "name": "python",
   "nbconvert_exporter": "python",
   "pygments_lexer": "ipython3",
   "version": "3.8.8"
  }
 },
 "nbformat": 4,
 "nbformat_minor": 5
}
